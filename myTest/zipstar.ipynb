{
 "cells": [
  {
   "cell_type": "code",
   "execution_count": 1,
   "metadata": {},
   "outputs": [
    {
     "name": "stdout",
     "output_type": "stream",
     "text": [
      "[tensor([111.]), tensor([222.]), tensor([333.])]\n"
     ]
    }
   ],
   "source": [
    "import torch\n",
    "\n",
    "# 三个 batch 的梯度\n",
    "dL_dw = [\n",
    "    (torch.tensor([1.]), torch.tensor([2.]), torch.tensor([3.])),\n",
    "    (torch.tensor([10.]), torch.tensor([20.]), torch.tensor([30.])),\n",
    "    (torch.tensor([100.]), torch.tensor([200.]), torch.tensor([300.])),\n",
    "]\n",
    "\n",
    "# 按位置相加\n",
    "dL_dw_sum = [sum(grads) for grads in zip(*dL_dw)]\n",
    "\n",
    "print(dL_dw_sum)\n",
    "# 输出: [tensor([111.]), tensor([222.]), tensor([333.])]\n"
   ]
  },
  {
   "cell_type": "code",
   "execution_count": 4,
   "metadata": {},
   "outputs": [
    {
     "name": "stdout",
     "output_type": "stream",
     "text": [
      "(tensor([1.]), tensor([10.]), tensor([100.]))\n",
      "(tensor([2.]), tensor([20.]), tensor([200.]))\n",
      "(tensor([3.]), tensor([30.]), tensor([300.]))\n"
     ]
    }
   ],
   "source": [
    "for grads in zip(*dL_dw):\n",
    "    print(grads)"
   ]
  },
  {
   "cell_type": "code",
   "execution_count": null,
   "metadata": {},
   "outputs": [],
   "source": []
  }
 ],
 "metadata": {
  "kernelspec": {
   "display_name": "Geom3D",
   "language": "python",
   "name": "python3"
  },
  "language_info": {
   "codemirror_mode": {
    "name": "ipython",
    "version": 3
   },
   "file_extension": ".py",
   "mimetype": "text/x-python",
   "name": "python",
   "nbconvert_exporter": "python",
   "pygments_lexer": "ipython3",
   "version": "3.8.0"
  }
 },
 "nbformat": 4,
 "nbformat_minor": 2
}
