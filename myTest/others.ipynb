{
 "cells": [
  {
   "cell_type": "code",
   "execution_count": 1,
   "metadata": {},
   "outputs": [
    {
     "name": "stderr",
     "output_type": "stream",
     "text": [
      "/tmp/ipykernel_1216364/810661085.py:15: UserWarning: Creating a tensor from a list of numpy.ndarrays is extremely slow. Please consider converting the list to a single numpy.ndarray with numpy.array() before converting to a tensor. (Triggered internally at  ../torch/csrc/utils/tensor_new.cpp:201.)\n",
      "  labels_tensor = torch.tensor(\n"
     ]
    }
   ],
   "source": [
    "# The original code seems to be an attempt to create a tensor of labels for the classes.\n",
    "# However, it is not properly formatted and is missing the context of being inside a class or function.\n",
    "# Let's fix it by ensuring it is a standalone code that can be executed properly.\n",
    "\n",
    "import torch\n",
    "import numpy as np\n",
    "\n",
    "# Assuming the following variables are defined in the context where this code will be executed:\n",
    "# ipc (int): the number of images per class\n",
    "# num_classes (int): the total number of classes\n",
    "\n",
    "# Create a tensor of labels for each class\n",
    "ipc=3\n",
    "num_classes=10\n",
    "labels_tensor = torch.tensor(\n",
    "    [np.ones(ipc) * i for i in range(num_classes)],\n",
    "    requires_grad=False,\n",
    "    device='cpu'  # Change to the appropriate device if needed\n",
    ").long().view(-1)\n",
    "\n",
    "# torch.tensor([np.ones(self.ipc)*i for i in range(self.num_classes)],\n",
    "#                          requires_grad=False,\n",
    "#                          device=self.device\n",
    "#                      ).long().view(-1)"
   ]
  },
  {
   "cell_type": "code",
   "execution_count": 2,
   "metadata": {},
   "outputs": [
    {
     "data": {
      "text/plain": [
       "tensor([0, 0, 0, 1, 1, 1, 2, 2, 2, 3, 3, 3, 4, 4, 4, 5, 5, 5, 6, 6, 6, 7, 7, 7,\n",
       "        8, 8, 8, 9, 9, 9])"
      ]
     },
     "execution_count": 2,
     "metadata": {},
     "output_type": "execute_result"
    }
   ],
   "source": [
    "labels_tensor"
   ]
  },
  {
   "cell_type": "code",
   "execution_count": 3,
   "metadata": {},
   "outputs": [],
   "source": [
    "coefficients = torch.randn(10, 4)\n",
    "basis = torch.randn(4, 3, 28, 28)\n",
    "N, C, H, W = coefficients.shape[0], basis.shape[1], basis.shape[2], basis.shape[3]\n",
    "imgs = torch.matmul(coefficients, basis.view(coefficients.shape[1],-1)).view(N, C, H, W)"
   ]
  },
  {
   "cell_type": "code",
   "execution_count": 4,
   "metadata": {},
   "outputs": [
    {
     "data": {
      "text/plain": [
       "[0, 0, 0, 0]"
      ]
     },
     "execution_count": 4,
     "metadata": {},
     "output_type": "execute_result"
    }
   ],
   "source": [
    "[0]*4"
   ]
  },
  {
   "cell_type": "code",
   "execution_count": null,
   "metadata": {},
   "outputs": [],
   "source": []
  }
 ],
 "metadata": {
  "kernelspec": {
   "display_name": "enzpyg",
   "language": "python",
   "name": "python3"
  },
  "language_info": {
   "codemirror_mode": {
    "name": "ipython",
    "version": 3
   },
   "file_extension": ".py",
   "mimetype": "text/x-python",
   "name": "python",
   "nbconvert_exporter": "python",
   "pygments_lexer": "ipython3",
   "version": "3.8.19"
  }
 },
 "nbformat": 4,
 "nbformat_minor": 2
}
