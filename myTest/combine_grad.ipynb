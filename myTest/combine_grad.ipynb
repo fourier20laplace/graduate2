{
 "cells": [
  {
   "cell_type": "code",
   "execution_count": 1,
   "metadata": {},
   "outputs": [],
   "source": [
    "import torch\n",
    "import torch.nn as nn\n",
    "\n",
    "class MyModel(nn.Module):\n",
    "    def __init__(self):\n",
    "        super(MyModel, self).__init__()\n",
    "        self.a = nn.Parameter(torch.tensor([1.,2.], requires_grad=True))\n",
    "        self.b = nn.Parameter(torch.tensor([4.,2.], requires_grad=True))\n",
    "\n",
    "    def forward(self):\n",
    "        imgs =self.a * 2 + self.b * 3  # 假设前向传播公式\n",
    "        return imgs\n",
    "    \n",
    "model=MyModel()\n",
    "opt=torch.optim.SGD(model.parameters(), lr=0.01)\n",
    "imgs_grad=torch.tensor([7.,8.])\n"
   ]
  },
  {
   "cell_type": "code",
   "execution_count": 3,
   "metadata": {},
   "outputs": [
    {
     "name": "stdout",
     "output_type": "stream",
     "text": [
      "torch.Size([2]) True\n",
      "torch.Size([2]) True\n"
     ]
    }
   ],
   "source": [
    "for param in opt.param_groups[0]['params']:\n",
    "    print(param.shape, param.requires_grad)\n"
   ]
  },
  {
   "cell_type": "code",
   "execution_count": 4,
   "metadata": {},
   "outputs": [
    {
     "name": "stdout",
     "output_type": "stream",
     "text": [
      "tensor([14., 16.]) tensor([21., 24.])\n"
     ]
    }
   ],
   "source": [
    "import torch\n",
    "import torch.nn as nn\n",
    "\n",
    "class MyModel(nn.Module):\n",
    "    def __init__(self):\n",
    "        super(MyModel, self).__init__()\n",
    "        self.a = nn.Parameter(torch.tensor([1.,2.], requires_grad=True))\n",
    "        self.b = nn.Parameter(torch.tensor([4.,2.], requires_grad=True))\n",
    "\n",
    "    def forward(self):\n",
    "        imgs =self.a * 2 + self.b * 3  # 假设前向传播公式\n",
    "        return imgs\n",
    "    \n",
    "model=MyModel()\n",
    "opt=torch.optim.SGD(model.parameters(), lr=0.01)\n",
    "imgs=model()\n",
    "imgs_grad=torch.tensor([7.,8.])\n",
    "imgs.backward(imgs_grad)\n",
    "print(model.a.grad, model.b.grad)\n"
   ]
  }
 ],
 "metadata": {
  "kernelspec": {
   "display_name": "Geom3D",
   "language": "python",
   "name": "python3"
  },
  "language_info": {
   "codemirror_mode": {
    "name": "ipython",
    "version": 3
   },
   "file_extension": ".py",
   "mimetype": "text/x-python",
   "name": "python",
   "nbconvert_exporter": "python",
   "pygments_lexer": "ipython3",
   "version": "3.8.0"
  }
 },
 "nbformat": 4,
 "nbformat_minor": 2
}
