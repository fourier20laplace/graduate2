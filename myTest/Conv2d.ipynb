{
 "cells": [
  {
   "cell_type": "code",
   "execution_count": 1,
   "metadata": {},
   "outputs": [
    {
     "name": "stdout",
     "output_type": "stream",
     "text": [
      "torch.Size([1, 3, 7, 7])\n"
     ]
    }
   ],
   "source": [
    "import torch\n",
    "import torch.nn as nn\n",
    "\n",
    "convT = nn.ConvTranspose2d(in_channels=3, out_channels=3, kernel_size=3, stride=2, padding=1)\n",
    "x = torch.randn(2, 4, 4)  # 输入：1张 3通道 4x4 的特征图\n",
    "y = convT(x)\n",
    "print(y.shape) "
   ]
  },
  {
   "cell_type": "code",
   "execution_count": 2,
   "metadata": {},
   "outputs": [
    {
     "data": {
      "text/plain": [
       "<function torch.nn.modules.module.Module.parameters(self, recurse: bool = True) -> Iterator[torch.nn.parameter.Parameter]>"
      ]
     },
     "execution_count": 2,
     "metadata": {},
     "output_type": "execute_result"
    }
   ],
   "source": [
    "nn.ConvTranspose2d.parameters\n"
   ]
  },
  {
   "cell_type": "code",
   "execution_count": 3,
   "metadata": {},
   "outputs": [
    {
     "name": "stdout",
     "output_type": "stream",
     "text": [
      "torch.Size([2, 3, 64, 64])\n"
     ]
    }
   ],
   "source": [
    "import torch\n",
    "import torch.nn as nn\n",
    "\n",
    "class SimpleDecoder(nn.Module):\n",
    "    def __init__(self, out_channels=3):\n",
    "        super(SimpleDecoder, self).__init__()\n",
    "\n",
    "        self.decoder = nn.Sequential(\n",
    "            nn.ConvTranspose2d(1, 64, kernel_size=3, stride=2, padding=1, output_padding=1),  # 4 → 8\n",
    "            nn.ReLU(),\n",
    "            nn.ConvTranspose2d(64, 128, kernel_size=3, stride=2, padding=1, output_padding=1), # 8 → 16\n",
    "            nn.ReLU(),\n",
    "            nn.ConvTranspose2d(128, 64, kernel_size=3, stride=2, padding=1, output_padding=1), # 16 → 32\n",
    "            nn.ReLU(),\n",
    "            nn.ConvTranspose2d(64, out_channels, kernel_size=3, stride=2, padding=1, output_padding=1), # 32 → 64\n",
    "            nn.Tanh()  # 输出范围 [0,1]，适用于图像 #! maybe use tanh?\n",
    "            #* 由于数据集有normalize 有负值的实际上\n",
    "        )\n",
    "\n",
    "    def forward(self, x):\n",
    "        if x.dim() == 3:  # 输入是 (B, 4, 4)，加上 channel 维\n",
    "            x = x.unsqueeze(1)  # → (B, 1, 4, 4)\n",
    "        return self.decoder(x)\n",
    "\n",
    "# 使用\n",
    "x = torch.randn(2, 4, 4)  # batch size = 2\n",
    "decoder = SimpleDecoder(out_channels=3)\n",
    "out = decoder(x)\n",
    "\n",
    "print(out.shape)  # ➜ torch.Size([2, 3, 64, 64])\n"
   ]
  },
  {
   "cell_type": "code",
   "execution_count": 4,
   "metadata": {},
   "outputs": [
    {
     "data": {
      "text/plain": [
       "tensor([[[[-0.1978, -0.1805, -0.1967,  ..., -0.1798, -0.1957, -0.1802],\n",
       "          [-0.1609, -0.1594, -0.1478,  ..., -0.1520, -0.1524, -0.1617],\n",
       "          [-0.1968, -0.1782, -0.2010,  ..., -0.1810, -0.1996, -0.1817],\n",
       "          ...,\n",
       "          [-0.1642, -0.1655, -0.1527,  ..., -0.1596, -0.1534, -0.1619],\n",
       "          [-0.1977, -0.1794, -0.1967,  ..., -0.1830, -0.1981, -0.1845],\n",
       "          [-0.1654, -0.1580, -0.1689,  ..., -0.1614, -0.1641, -0.1647]],\n",
       "\n",
       "         [[-0.1226, -0.1039, -0.1207,  ..., -0.1035, -0.1188, -0.1042],\n",
       "          [-0.1464, -0.1255, -0.1527,  ..., -0.1263, -0.1505, -0.1296],\n",
       "          [-0.1221, -0.0884, -0.1330,  ..., -0.0921, -0.1263, -0.1025],\n",
       "          ...,\n",
       "          [-0.1491, -0.1216, -0.1583,  ..., -0.1208, -0.1534, -0.1305],\n",
       "          [-0.1240, -0.0991, -0.1280,  ..., -0.0987, -0.1226, -0.1020],\n",
       "          [-0.1403, -0.1077, -0.1412,  ..., -0.1087, -0.1405, -0.1297]],\n",
       "\n",
       "         [[-0.0765, -0.0444, -0.0772,  ..., -0.0456, -0.0762, -0.0657],\n",
       "          [-0.0892, -0.0490, -0.0802,  ..., -0.0504, -0.0837, -0.0466],\n",
       "          [-0.0767, -0.0412, -0.0715,  ..., -0.0397, -0.0739, -0.0644],\n",
       "          ...,\n",
       "          [-0.0876, -0.0528, -0.0832,  ..., -0.0539, -0.0840, -0.0505],\n",
       "          [-0.0765, -0.0460, -0.0728,  ..., -0.0451, -0.0762, -0.0654],\n",
       "          [-0.0994, -0.0410, -0.1000,  ..., -0.0438, -0.0976, -0.0500]]],\n",
       "\n",
       "\n",
       "        [[[-0.1978, -0.1804, -0.1966,  ..., -0.1799, -0.1960, -0.1800],\n",
       "          [-0.1609, -0.1598, -0.1476,  ..., -0.1521, -0.1522, -0.1620],\n",
       "          [-0.1967, -0.1786, -0.2011,  ..., -0.1820, -0.2001, -0.1819],\n",
       "          ...,\n",
       "          [-0.1645, -0.1653, -0.1528,  ..., -0.1596, -0.1533, -0.1620],\n",
       "          [-0.1978, -0.1792, -0.1964,  ..., -0.1832, -0.1981, -0.1846],\n",
       "          [-0.1656, -0.1586, -0.1678,  ..., -0.1613, -0.1640, -0.1648]],\n",
       "\n",
       "         [[-0.1228, -0.1036, -0.1208,  ..., -0.1032, -0.1192, -0.1040],\n",
       "          [-0.1466, -0.1256, -0.1541,  ..., -0.1262, -0.1506, -0.1289],\n",
       "          [-0.1218, -0.0898, -0.1326,  ..., -0.0921, -0.1260, -0.1029],\n",
       "          ...,\n",
       "          [-0.1490, -0.1226, -0.1580,  ..., -0.1204, -0.1533, -0.1306],\n",
       "          [-0.1240, -0.0989, -0.1281,  ..., -0.0988, -0.1229, -0.1019],\n",
       "          [-0.1405, -0.1077, -0.1419,  ..., -0.1085, -0.1403, -0.1298]],\n",
       "\n",
       "         [[-0.0765, -0.0445, -0.0771,  ..., -0.0455, -0.0762, -0.0659],\n",
       "          [-0.0891, -0.0496, -0.0813,  ..., -0.0522, -0.0834, -0.0464],\n",
       "          [-0.0770, -0.0411, -0.0705,  ..., -0.0404, -0.0736, -0.0645],\n",
       "          ...,\n",
       "          [-0.0873, -0.0536, -0.0824,  ..., -0.0538, -0.0840, -0.0508],\n",
       "          [-0.0767, -0.0455, -0.0717,  ..., -0.0453, -0.0762, -0.0654],\n",
       "          [-0.0996, -0.0418, -0.0994,  ..., -0.0439, -0.0977, -0.0500]]]],\n",
       "       grad_fn=<TanhBackward0>)"
      ]
     },
     "execution_count": 4,
     "metadata": {},
     "output_type": "execute_result"
    }
   ],
   "source": [
    "out"
   ]
  },
  {
   "cell_type": "code",
   "execution_count": null,
   "metadata": {},
   "outputs": [],
   "source": []
  }
 ],
 "metadata": {
  "kernelspec": {
   "display_name": "Geom3D",
   "language": "python",
   "name": "python3"
  },
  "language_info": {
   "codemirror_mode": {
    "name": "ipython",
    "version": 3
   },
   "file_extension": ".py",
   "mimetype": "text/x-python",
   "name": "python",
   "nbconvert_exporter": "python",
   "pygments_lexer": "ipython3",
   "version": "3.8.0"
  }
 },
 "nbformat": 4,
 "nbformat_minor": 2
}
