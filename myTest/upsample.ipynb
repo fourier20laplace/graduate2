{
 "cells": [
  {
   "cell_type": "code",
   "execution_count": 2,
   "metadata": {},
   "outputs": [
    {
     "name": "stdout",
     "output_type": "stream",
     "text": [
      "tensor([[[[10., 22.,  4.],\n",
      "          [39., 69., 18.],\n",
      "          [27., 51., 20.]]]])\n"
     ]
    }
   ],
   "source": [
    "import torch\n",
    "import torch.nn.functional as F\n",
    "\n",
    "# 输入特征图 (batch=1, channels=1, height=2, width=2)\n",
    "x = torch.tensor([[[[1., 2.], \n",
    "                    [3., 4.]]]]) # shape: (1, 1, 2, 2)\n",
    "\n",
    "# 2x2 的 kernel matrix (用于上采样)\n",
    "kernel = torch.tensor([[[[10., 2.], \n",
    "                         [9., 5.]]]])  # shape: (1, 1, 2, 2)\n",
    "\n",
    "# 使用转置卷积进行上采样\n",
    "upsampled = F.conv_transpose2d(x, kernel, stride=1)\n",
    "\n",
    "print(upsampled)\n"
   ]
  },
  {
   "cell_type": "code",
   "execution_count": null,
   "metadata": {},
   "outputs": [],
   "source": []
  }
 ],
 "metadata": {
  "kernelspec": {
   "display_name": "enzpyg",
   "language": "python",
   "name": "python3"
  },
  "language_info": {
   "codemirror_mode": {
    "name": "ipython",
    "version": 3
   },
   "file_extension": ".py",
   "mimetype": "text/x-python",
   "name": "python",
   "nbconvert_exporter": "python",
   "pygments_lexer": "ipython3",
   "version": "3.8.19"
  }
 },
 "nbformat": 4,
 "nbformat_minor": 2
}
